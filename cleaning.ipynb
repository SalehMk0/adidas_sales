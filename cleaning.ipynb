{
 "cells": [
  {
   "cell_type": "code",
   "execution_count": 2,
   "id": "cffb6b50-b6ed-4670-a262-d5ecc0301860",
   "metadata": {},
   "outputs": [],
   "source": [
    "import pandas as pd"
   ]
  },
  {
   "cell_type": "code",
   "execution_count": 3,
   "id": "ec027169-9b06-4c53-8ddb-337eb603ac9d",
   "metadata": {},
   "outputs": [],
   "source": [
    "df = pd.read_csv('adidas.csv')"
   ]
  },
  {
   "cell_type": "code",
   "execution_count": 4,
   "id": "98325c9c-caf9-4ef6-afd2-8b5fa9798691",
   "metadata": {},
   "outputs": [
    {
     "data": {
      "text/plain": [
       "(9648, 12)"
      ]
     },
     "execution_count": 4,
     "metadata": {},
     "output_type": "execute_result"
    }
   ],
   "source": [
    "df.shape"
   ]
  },
  {
   "cell_type": "code",
   "execution_count": 5,
   "id": "f7bf2c11-ea4c-43ad-a577-c1e50e2014c9",
   "metadata": {},
   "outputs": [
    {
     "data": {
      "text/plain": [
       "Retailer        object\n",
       "invoice_date    object\n",
       "Region          object\n",
       "State           object\n",
       "City            object\n",
       "Product         object\n",
       "unit_price      object\n",
       "units_sold      object\n",
       "total_sales     object\n",
       "profit          object\n",
       "margin          object\n",
       "sales_method    object\n",
       "dtype: object"
      ]
     },
     "execution_count": 5,
     "metadata": {},
     "output_type": "execute_result"
    }
   ],
   "source": [
    "df.dtypes"
   ]
  },
  {
   "cell_type": "code",
   "execution_count": 6,
   "id": "8af32ff4-c486-4fba-a694-10df7c9bcf8d",
   "metadata": {},
   "outputs": [
    {
     "data": {
      "text/html": [
       "<div>\n",
       "<style scoped>\n",
       "    .dataframe tbody tr th:only-of-type {\n",
       "        vertical-align: middle;\n",
       "    }\n",
       "\n",
       "    .dataframe tbody tr th {\n",
       "        vertical-align: top;\n",
       "    }\n",
       "\n",
       "    .dataframe thead th {\n",
       "        text-align: right;\n",
       "    }\n",
       "</style>\n",
       "<table border=\"1\" class=\"dataframe\">\n",
       "  <thead>\n",
       "    <tr style=\"text-align: right;\">\n",
       "      <th></th>\n",
       "      <th>Retailer</th>\n",
       "      <th>invoice_date</th>\n",
       "      <th>Region</th>\n",
       "      <th>State</th>\n",
       "      <th>City</th>\n",
       "      <th>Product</th>\n",
       "      <th>unit_price</th>\n",
       "      <th>units_sold</th>\n",
       "      <th>total_sales</th>\n",
       "      <th>profit</th>\n",
       "      <th>margin</th>\n",
       "      <th>sales_method</th>\n",
       "    </tr>\n",
       "  </thead>\n",
       "  <tbody>\n",
       "    <tr>\n",
       "      <th>9643</th>\n",
       "      <td>Foot Locker</td>\n",
       "      <td>1/24/2021</td>\n",
       "      <td>Northeast</td>\n",
       "      <td>New Hampshire</td>\n",
       "      <td>Manchester</td>\n",
       "      <td>Men's Apparel</td>\n",
       "      <td>$50.00</td>\n",
       "      <td>64</td>\n",
       "      <td>$3,200</td>\n",
       "      <td>$896</td>\n",
       "      <td>28%</td>\n",
       "      <td>Outlet</td>\n",
       "    </tr>\n",
       "    <tr>\n",
       "      <th>9644</th>\n",
       "      <td>Foot Locker</td>\n",
       "      <td>1/24/2021</td>\n",
       "      <td>Northeast</td>\n",
       "      <td>New Hampshire</td>\n",
       "      <td>Manchester</td>\n",
       "      <td>Women's Apparel</td>\n",
       "      <td>$41.00</td>\n",
       "      <td>105</td>\n",
       "      <td>$4,305</td>\n",
       "      <td>$1,378</td>\n",
       "      <td>32%</td>\n",
       "      <td>Outlet</td>\n",
       "    </tr>\n",
       "    <tr>\n",
       "      <th>9645</th>\n",
       "      <td>Foot Locker</td>\n",
       "      <td>2/22/2021</td>\n",
       "      <td>Northeast</td>\n",
       "      <td>New Hampshire</td>\n",
       "      <td>Manchester</td>\n",
       "      <td>Men's Street Footwear</td>\n",
       "      <td>$41.00</td>\n",
       "      <td>184</td>\n",
       "      <td>$7,544</td>\n",
       "      <td>$2,791</td>\n",
       "      <td>37%</td>\n",
       "      <td>Outlet</td>\n",
       "    </tr>\n",
       "    <tr>\n",
       "      <th>9646</th>\n",
       "      <td>Foot Locker</td>\n",
       "      <td>2/22/2021</td>\n",
       "      <td>Northeast</td>\n",
       "      <td>New Hampshire</td>\n",
       "      <td>Manchester</td>\n",
       "      <td>Men's Athletic Footwear</td>\n",
       "      <td>$42.00</td>\n",
       "      <td>70</td>\n",
       "      <td>$2,940</td>\n",
       "      <td>$1,235</td>\n",
       "      <td>42%</td>\n",
       "      <td>Outlet</td>\n",
       "    </tr>\n",
       "    <tr>\n",
       "      <th>9647</th>\n",
       "      <td>Foot Locker</td>\n",
       "      <td>2/22/2021</td>\n",
       "      <td>Northeast</td>\n",
       "      <td>New Hampshire</td>\n",
       "      <td>Manchester</td>\n",
       "      <td>Women's Street Footwear</td>\n",
       "      <td>$29.00</td>\n",
       "      <td>83</td>\n",
       "      <td>$2,407</td>\n",
       "      <td>$650</td>\n",
       "      <td>27%</td>\n",
       "      <td>Outlet</td>\n",
       "    </tr>\n",
       "  </tbody>\n",
       "</table>\n",
       "</div>"
      ],
      "text/plain": [
       "         Retailer invoice_date     Region          State        City  \\\n",
       "9643  Foot Locker    1/24/2021  Northeast  New Hampshire  Manchester   \n",
       "9644  Foot Locker    1/24/2021  Northeast  New Hampshire  Manchester   \n",
       "9645  Foot Locker    2/22/2021  Northeast  New Hampshire  Manchester   \n",
       "9646  Foot Locker    2/22/2021  Northeast  New Hampshire  Manchester   \n",
       "9647  Foot Locker    2/22/2021  Northeast  New Hampshire  Manchester   \n",
       "\n",
       "                      Product unit_price units_sold total_sales   profit  \\\n",
       "9643            Men's Apparel    $50.00          64     $3,200     $896    \n",
       "9644          Women's Apparel    $41.00         105     $4,305   $1,378    \n",
       "9645    Men's Street Footwear    $41.00         184     $7,544   $2,791    \n",
       "9646  Men's Athletic Footwear    $42.00          70     $2,940   $1,235    \n",
       "9647  Women's Street Footwear    $29.00          83     $2,407     $650    \n",
       "\n",
       "     margin sales_method  \n",
       "9643    28%       Outlet  \n",
       "9644    32%       Outlet  \n",
       "9645    37%       Outlet  \n",
       "9646    42%       Outlet  \n",
       "9647    27%       Outlet  "
      ]
     },
     "execution_count": 6,
     "metadata": {},
     "output_type": "execute_result"
    }
   ],
   "source": [
    "df.tail(5)"
   ]
  },
  {
   "cell_type": "code",
   "execution_count": 7,
   "id": "360a1b38-77e3-4fa0-928b-da5a80e8116d",
   "metadata": {},
   "outputs": [],
   "source": [
    "df.rename(columns={'Price per Unit' : 'unit_price'}, inplace=True)"
   ]
  },
  {
   "cell_type": "code",
   "execution_count": 8,
   "id": "078b900f-141a-45d3-b4db-b9c6eabf71d6",
   "metadata": {},
   "outputs": [],
   "source": [
    "df.rename(columns={'Retailer ID' : 'retailer_id'}, inplace=True)"
   ]
  },
  {
   "cell_type": "code",
   "execution_count": 9,
   "id": "e0b000af-8aa2-497e-8fa2-74b88d67c884",
   "metadata": {},
   "outputs": [],
   "source": [
    "df.rename(columns={'Invoice Date' : 'invoice_date'}, inplace=True)"
   ]
  },
  {
   "cell_type": "code",
   "execution_count": 10,
   "id": "463013c8-3a38-4c3a-a77e-25c966f123bb",
   "metadata": {},
   "outputs": [],
   "source": [
    "df.rename(columns={'Units Sold': 'units_sold'}, inplace= True)"
   ]
  },
  {
   "cell_type": "code",
   "execution_count": 11,
   "id": "2053331d-8af9-4820-aec8-df93a807953b",
   "metadata": {},
   "outputs": [],
   "source": [
    "df.rename(columns={'Operating Profit' : 'profit'}, inplace=True)"
   ]
  },
  {
   "cell_type": "code",
   "execution_count": 12,
   "id": "ef67db57-4d41-4cd9-90d7-45615691b14a",
   "metadata": {},
   "outputs": [],
   "source": [
    "df.rename(columns={'Operating Margin' : 'margin'}, inplace=True)"
   ]
  },
  {
   "cell_type": "code",
   "execution_count": 13,
   "id": "15b941e8-cbb0-4460-8b51-f0da10f0bab2",
   "metadata": {},
   "outputs": [],
   "source": [
    "df.rename(columns={'Sales Method' : 'sales_method'}, inplace=True)"
   ]
  },
  {
   "cell_type": "code",
   "execution_count": 14,
   "id": "c338b31e-3d44-40b8-afe8-7047b1936f54",
   "metadata": {},
   "outputs": [],
   "source": [
    "df.rename(columns={'Total Sales' : 'total_sales'}, inplace=True)"
   ]
  },
  {
   "cell_type": "code",
   "execution_count": 15,
   "id": "4107a78b-a11f-4419-a16e-8ae04da35e3c",
   "metadata": {},
   "outputs": [
    {
     "data": {
      "text/plain": [
       "Retailer        0\n",
       "invoice_date    0\n",
       "Region          0\n",
       "State           0\n",
       "City            0\n",
       "Product         0\n",
       "unit_price      0\n",
       "units_sold      0\n",
       "total_sales     0\n",
       "profit          0\n",
       "margin          0\n",
       "sales_method    0\n",
       "dtype: int64"
      ]
     },
     "execution_count": 15,
     "metadata": {},
     "output_type": "execute_result"
    }
   ],
   "source": [
    "df.isna().sum()"
   ]
  },
  {
   "cell_type": "code",
   "execution_count": 16,
   "id": "02e2c810-3808-4b4d-930a-8947e886c118",
   "metadata": {},
   "outputs": [],
   "source": [
    "df = df.dropna()"
   ]
  },
  {
   "cell_type": "code",
   "execution_count": 17,
   "id": "d6f5dd5d-a108-41b7-b5e6-ef795d40c7f0",
   "metadata": {},
   "outputs": [
    {
     "data": {
      "text/plain": [
       "Retailer        0\n",
       "invoice_date    0\n",
       "Region          0\n",
       "State           0\n",
       "City            0\n",
       "Product         0\n",
       "unit_price      0\n",
       "units_sold      0\n",
       "total_sales     0\n",
       "profit          0\n",
       "margin          0\n",
       "sales_method    0\n",
       "dtype: int64"
      ]
     },
     "execution_count": 17,
     "metadata": {},
     "output_type": "execute_result"
    }
   ],
   "source": [
    "df.isna().sum()"
   ]
  },
  {
   "cell_type": "code",
   "execution_count": 18,
   "id": "0c1b6e20-6cea-43c7-a6f2-03900a40573d",
   "metadata": {},
   "outputs": [],
   "source": [
    "duplicates = df.duplicated"
   ]
  },
  {
   "cell_type": "code",
   "execution_count": 19,
   "id": "e2e4cbd8-8519-4463-873e-a2bba8c6e5d4",
   "metadata": {},
   "outputs": [
    {
     "ename": "KeyError",
     "evalue": "\"['retailer_id'] not found in axis\"",
     "output_type": "error",
     "traceback": [
      "\u001b[1;31m---------------------------------------------------------------------------\u001b[0m",
      "\u001b[1;31mKeyError\u001b[0m                                  Traceback (most recent call last)",
      "Cell \u001b[1;32mIn[19], line 1\u001b[0m\n\u001b[1;32m----> 1\u001b[0m df \u001b[38;5;241m=\u001b[39m df\u001b[38;5;241m.\u001b[39mdrop(\u001b[38;5;124m'\u001b[39m\u001b[38;5;124mretailer_id\u001b[39m\u001b[38;5;124m'\u001b[39m, axis\u001b[38;5;241m=\u001b[39m\u001b[38;5;241m1\u001b[39m)\n",
      "File \u001b[1;32m~\\anaconda3\\Lib\\site-packages\\pandas\\core\\frame.py:5344\u001b[0m, in \u001b[0;36mDataFrame.drop\u001b[1;34m(self, labels, axis, index, columns, level, inplace, errors)\u001b[0m\n\u001b[0;32m   5196\u001b[0m \u001b[38;5;28;01mdef\u001b[39;00m \u001b[38;5;21mdrop\u001b[39m(\n\u001b[0;32m   5197\u001b[0m     \u001b[38;5;28mself\u001b[39m,\n\u001b[0;32m   5198\u001b[0m     labels: IndexLabel \u001b[38;5;241m|\u001b[39m \u001b[38;5;28;01mNone\u001b[39;00m \u001b[38;5;241m=\u001b[39m \u001b[38;5;28;01mNone\u001b[39;00m,\n\u001b[1;32m   (...)\u001b[0m\n\u001b[0;32m   5205\u001b[0m     errors: IgnoreRaise \u001b[38;5;241m=\u001b[39m \u001b[38;5;124m\"\u001b[39m\u001b[38;5;124mraise\u001b[39m\u001b[38;5;124m\"\u001b[39m,\n\u001b[0;32m   5206\u001b[0m ) \u001b[38;5;241m-\u001b[39m\u001b[38;5;241m>\u001b[39m DataFrame \u001b[38;5;241m|\u001b[39m \u001b[38;5;28;01mNone\u001b[39;00m:\n\u001b[0;32m   5207\u001b[0m \u001b[38;5;250m    \u001b[39m\u001b[38;5;124;03m\"\"\"\u001b[39;00m\n\u001b[0;32m   5208\u001b[0m \u001b[38;5;124;03m    Drop specified labels from rows or columns.\u001b[39;00m\n\u001b[0;32m   5209\u001b[0m \n\u001b[1;32m   (...)\u001b[0m\n\u001b[0;32m   5342\u001b[0m \u001b[38;5;124;03m            weight  1.0     0.8\u001b[39;00m\n\u001b[0;32m   5343\u001b[0m \u001b[38;5;124;03m    \"\"\"\u001b[39;00m\n\u001b[1;32m-> 5344\u001b[0m     \u001b[38;5;28;01mreturn\u001b[39;00m \u001b[38;5;28msuper\u001b[39m()\u001b[38;5;241m.\u001b[39mdrop(\n\u001b[0;32m   5345\u001b[0m         labels\u001b[38;5;241m=\u001b[39mlabels,\n\u001b[0;32m   5346\u001b[0m         axis\u001b[38;5;241m=\u001b[39maxis,\n\u001b[0;32m   5347\u001b[0m         index\u001b[38;5;241m=\u001b[39mindex,\n\u001b[0;32m   5348\u001b[0m         columns\u001b[38;5;241m=\u001b[39mcolumns,\n\u001b[0;32m   5349\u001b[0m         level\u001b[38;5;241m=\u001b[39mlevel,\n\u001b[0;32m   5350\u001b[0m         inplace\u001b[38;5;241m=\u001b[39minplace,\n\u001b[0;32m   5351\u001b[0m         errors\u001b[38;5;241m=\u001b[39merrors,\n\u001b[0;32m   5352\u001b[0m     )\n",
      "File \u001b[1;32m~\\anaconda3\\Lib\\site-packages\\pandas\\core\\generic.py:4711\u001b[0m, in \u001b[0;36mNDFrame.drop\u001b[1;34m(self, labels, axis, index, columns, level, inplace, errors)\u001b[0m\n\u001b[0;32m   4709\u001b[0m \u001b[38;5;28;01mfor\u001b[39;00m axis, labels \u001b[38;5;129;01min\u001b[39;00m axes\u001b[38;5;241m.\u001b[39mitems():\n\u001b[0;32m   4710\u001b[0m     \u001b[38;5;28;01mif\u001b[39;00m labels \u001b[38;5;129;01mis\u001b[39;00m \u001b[38;5;129;01mnot\u001b[39;00m \u001b[38;5;28;01mNone\u001b[39;00m:\n\u001b[1;32m-> 4711\u001b[0m         obj \u001b[38;5;241m=\u001b[39m obj\u001b[38;5;241m.\u001b[39m_drop_axis(labels, axis, level\u001b[38;5;241m=\u001b[39mlevel, errors\u001b[38;5;241m=\u001b[39merrors)\n\u001b[0;32m   4713\u001b[0m \u001b[38;5;28;01mif\u001b[39;00m inplace:\n\u001b[0;32m   4714\u001b[0m     \u001b[38;5;28mself\u001b[39m\u001b[38;5;241m.\u001b[39m_update_inplace(obj)\n",
      "File \u001b[1;32m~\\anaconda3\\Lib\\site-packages\\pandas\\core\\generic.py:4753\u001b[0m, in \u001b[0;36mNDFrame._drop_axis\u001b[1;34m(self, labels, axis, level, errors, only_slice)\u001b[0m\n\u001b[0;32m   4751\u001b[0m         new_axis \u001b[38;5;241m=\u001b[39m axis\u001b[38;5;241m.\u001b[39mdrop(labels, level\u001b[38;5;241m=\u001b[39mlevel, errors\u001b[38;5;241m=\u001b[39merrors)\n\u001b[0;32m   4752\u001b[0m     \u001b[38;5;28;01melse\u001b[39;00m:\n\u001b[1;32m-> 4753\u001b[0m         new_axis \u001b[38;5;241m=\u001b[39m axis\u001b[38;5;241m.\u001b[39mdrop(labels, errors\u001b[38;5;241m=\u001b[39merrors)\n\u001b[0;32m   4754\u001b[0m     indexer \u001b[38;5;241m=\u001b[39m axis\u001b[38;5;241m.\u001b[39mget_indexer(new_axis)\n\u001b[0;32m   4756\u001b[0m \u001b[38;5;66;03m# Case for non-unique axis\u001b[39;00m\n\u001b[0;32m   4757\u001b[0m \u001b[38;5;28;01melse\u001b[39;00m:\n",
      "File \u001b[1;32m~\\anaconda3\\Lib\\site-packages\\pandas\\core\\indexes\\base.py:7000\u001b[0m, in \u001b[0;36mIndex.drop\u001b[1;34m(self, labels, errors)\u001b[0m\n\u001b[0;32m   6998\u001b[0m \u001b[38;5;28;01mif\u001b[39;00m mask\u001b[38;5;241m.\u001b[39many():\n\u001b[0;32m   6999\u001b[0m     \u001b[38;5;28;01mif\u001b[39;00m errors \u001b[38;5;241m!=\u001b[39m \u001b[38;5;124m\"\u001b[39m\u001b[38;5;124mignore\u001b[39m\u001b[38;5;124m\"\u001b[39m:\n\u001b[1;32m-> 7000\u001b[0m         \u001b[38;5;28;01mraise\u001b[39;00m \u001b[38;5;167;01mKeyError\u001b[39;00m(\u001b[38;5;124mf\u001b[39m\u001b[38;5;124m\"\u001b[39m\u001b[38;5;132;01m{\u001b[39;00mlabels[mask]\u001b[38;5;241m.\u001b[39mtolist()\u001b[38;5;132;01m}\u001b[39;00m\u001b[38;5;124m not found in axis\u001b[39m\u001b[38;5;124m\"\u001b[39m)\n\u001b[0;32m   7001\u001b[0m     indexer \u001b[38;5;241m=\u001b[39m indexer[\u001b[38;5;241m~\u001b[39mmask]\n\u001b[0;32m   7002\u001b[0m \u001b[38;5;28;01mreturn\u001b[39;00m \u001b[38;5;28mself\u001b[39m\u001b[38;5;241m.\u001b[39mdelete(indexer)\n",
      "\u001b[1;31mKeyError\u001b[0m: \"['retailer_id'] not found in axis\""
     ]
    }
   ],
   "source": [
    "df = df.drop('retailer_id', axis=1)"
   ]
  },
  {
   "cell_type": "code",
   "execution_count": 20,
   "id": "871f9921-fe32-4fe9-aacd-b641cc9495cb",
   "metadata": {},
   "outputs": [
    {
     "data": {
      "text/plain": [
       "Index(['Retailer', 'invoice_date', 'Region', 'State', 'City', 'Product',\n",
       "       'unit_price', 'units_sold', 'total_sales', 'profit', 'margin',\n",
       "       'sales_method'],\n",
       "      dtype='object')"
      ]
     },
     "execution_count": 20,
     "metadata": {},
     "output_type": "execute_result"
    }
   ],
   "source": [
    "df.columns"
   ]
  },
  {
   "cell_type": "code",
   "execution_count": 22,
   "id": "4fda742d-a041-4748-a4ee-a96ac2c27ac8",
   "metadata": {},
   "outputs": [
    {
     "data": {
      "text/plain": [
       "array(['Foot Locker', 'Walmart', 'Sports Direct', 'West Gear', \"Kohl's\",\n",
       "       'Amazon'], dtype=object)"
      ]
     },
     "execution_count": 22,
     "metadata": {},
     "output_type": "execute_result"
    }
   ],
   "source": [
    "df['Retailer'].unique()"
   ]
  },
  {
   "cell_type": "code",
   "execution_count": 24,
   "id": "10d0966c-1b22-4008-bfba-20b18bc94dcb",
   "metadata": {},
   "outputs": [
    {
     "data": {
      "text/plain": [
       "array(['New York', 'Houston', 'San Francisco', 'Los Angeles', 'Chicago',\n",
       "       'Dallas', 'Philadelphia', 'Las Vegas', 'Denver', 'Seattle',\n",
       "       'Miami', 'Minneapolis', 'Billings', 'Knoxville', 'Omaha',\n",
       "       'Birmingham', 'Portland', 'Anchorage', 'Honolulu', 'Orlando',\n",
       "       'Albany', 'Cheyenne', 'Richmond', 'Detroit', 'St. Louis',\n",
       "       'Salt Lake City', 'New Orleans', 'Boise', 'Phoenix', 'Albuquerque',\n",
       "       'Atlanta', 'Charleston', 'Charlotte', 'Columbus', 'Louisville',\n",
       "       'Jackson', 'Little Rock', 'Oklahoma City', 'Wichita',\n",
       "       'Sioux Falls', 'Fargo', 'Des Moines', 'Milwaukee', 'Indianapolis',\n",
       "       'Baltimore', 'Wilmington', 'Newark', 'Hartford', 'Providence',\n",
       "       'Boston', 'Burlington', 'Manchester'], dtype=object)"
      ]
     },
     "execution_count": 24,
     "metadata": {},
     "output_type": "execute_result"
    }
   ],
   "source": [
    "df['City'].unique()"
   ]
  },
  {
   "cell_type": "code",
   "execution_count": 26,
   "id": "eb2a8768-d6a3-4350-9ac5-0c364647f294",
   "metadata": {},
   "outputs": [
    {
     "data": {
      "text/plain": [
       "array(['Northeast', 'South', 'West', 'Midwest', 'Southeast'], dtype=object)"
      ]
     },
     "execution_count": 26,
     "metadata": {},
     "output_type": "execute_result"
    }
   ],
   "source": [
    "df['Region'].unique()"
   ]
  },
  {
   "cell_type": "code",
   "execution_count": 28,
   "id": "f4db4dda-8fbb-48d2-853c-0f50d724a72c",
   "metadata": {},
   "outputs": [
    {
     "data": {
      "text/plain": [
       "50"
      ]
     },
     "execution_count": 28,
     "metadata": {},
     "output_type": "execute_result"
    }
   ],
   "source": [
    "df['State'].nunique()"
   ]
  },
  {
   "cell_type": "code",
   "execution_count": 30,
   "id": "865a7fd3-2efd-40d3-bd1a-41c76493ae43",
   "metadata": {},
   "outputs": [
    {
     "data": {
      "text/plain": [
       "array([\"Men's Street Footwear\", \"Men's Athletic Footwear\",\n",
       "       \"Women's Street Footwear\", \"Women's Athletic Footwear\",\n",
       "       \"Men's Apparel\", \"Women's Apparel\"], dtype=object)"
      ]
     },
     "execution_count": 30,
     "metadata": {},
     "output_type": "execute_result"
    }
   ],
   "source": [
    "df['Product'].unique()"
   ]
  },
  {
   "cell_type": "code",
   "execution_count": 32,
   "id": "04f5bf8d-4cb6-4623-b98d-e6db50dc8c3c",
   "metadata": {},
   "outputs": [
    {
     "data": {
      "text/plain": [
       "<bound method DataFrame.duplicated of          Retailer invoice_date     Region          State        City  \\\n",
       "0     Foot Locker     1/1/2020  Northeast       New York    New York   \n",
       "1     Foot Locker     1/2/2020  Northeast       New York    New York   \n",
       "2     Foot Locker     1/3/2020  Northeast       New York    New York   \n",
       "3     Foot Locker     1/4/2020  Northeast       New York    New York   \n",
       "4     Foot Locker     1/5/2020  Northeast       New York    New York   \n",
       "...           ...          ...        ...            ...         ...   \n",
       "9643  Foot Locker    1/24/2021  Northeast  New Hampshire  Manchester   \n",
       "9644  Foot Locker    1/24/2021  Northeast  New Hampshire  Manchester   \n",
       "9645  Foot Locker    2/22/2021  Northeast  New Hampshire  Manchester   \n",
       "9646  Foot Locker    2/22/2021  Northeast  New Hampshire  Manchester   \n",
       "9647  Foot Locker    2/22/2021  Northeast  New Hampshire  Manchester   \n",
       "\n",
       "                        Product unit_price units_sold total_sales     profit  \\\n",
       "0         Men's Street Footwear    $50.00       1,200   $600,000   $300,000    \n",
       "1       Men's Athletic Footwear    $50.00       1,000   $500,000   $150,000    \n",
       "2       Women's Street Footwear    $40.00       1,000   $400,000   $140,000    \n",
       "3     Women's Athletic Footwear    $45.00         850   $382,500   $133,875    \n",
       "4                 Men's Apparel    $60.00         900   $540,000   $162,000    \n",
       "...                         ...        ...        ...         ...        ...   \n",
       "9643              Men's Apparel    $50.00          64     $3,200       $896    \n",
       "9644            Women's Apparel    $41.00         105     $4,305     $1,378    \n",
       "9645      Men's Street Footwear    $41.00         184     $7,544     $2,791    \n",
       "9646    Men's Athletic Footwear    $42.00          70     $2,940     $1,235    \n",
       "9647    Women's Street Footwear    $29.00          83     $2,407       $650    \n",
       "\n",
       "     margin sales_method  \n",
       "0       50%     In-store  \n",
       "1       30%     In-store  \n",
       "2       35%     In-store  \n",
       "3       35%     In-store  \n",
       "4       30%     In-store  \n",
       "...     ...          ...  \n",
       "9643    28%       Outlet  \n",
       "9644    32%       Outlet  \n",
       "9645    37%       Outlet  \n",
       "9646    42%       Outlet  \n",
       "9647    27%       Outlet  \n",
       "\n",
       "[9648 rows x 12 columns]>"
      ]
     },
     "execution_count": 32,
     "metadata": {},
     "output_type": "execute_result"
    }
   ],
   "source": [
    "duplicates"
   ]
  },
  {
   "cell_type": "code",
   "execution_count": 34,
   "id": "ed9e7cfd-aceb-4ae7-ac98-1c680b5c97d9",
   "metadata": {},
   "outputs": [],
   "source": [
    "df.to_csv(\"adidas.csv\", index=False)"
   ]
  },
  {
   "cell_type": "code",
   "execution_count": 36,
   "id": "f958d682-1a4a-4409-aec3-5701c5c5f610",
   "metadata": {},
   "outputs": [],
   "source": [
    "df['unit_price'] = df['unit_price'].str.replace('$', '')"
   ]
  },
  {
   "cell_type": "code",
   "execution_count": 40,
   "id": "2e496854-08d8-428c-a498-d71dd58b43dc",
   "metadata": {},
   "outputs": [],
   "source": [
    "df['unit_price'] = pd.to_numeric(df['unit_price'])"
   ]
  },
  {
   "cell_type": "code",
   "execution_count": 42,
   "id": "4c24ca9f-72b4-450d-bd53-b581f1a25436",
   "metadata": {},
   "outputs": [
    {
     "data": {
      "text/plain": [
       "dtype('float64')"
      ]
     },
     "execution_count": 42,
     "metadata": {},
     "output_type": "execute_result"
    }
   ],
   "source": [
    "df['unit_price'].dtype"
   ]
  },
  {
   "cell_type": "code",
   "execution_count": 48,
   "id": "72f18329-bb7a-4e6a-8f42-1060e3c2c3ad",
   "metadata": {},
   "outputs": [],
   "source": [
    "df['total_sales'] = df['total_sales'].str.replace('$', '')\n",
    "df['total_sales'] = df['total_sales'].str.replace(',', '')\n",
    "df['total_sales'] = pd.to_numeric(df['total_sales'])"
   ]
  },
  {
   "cell_type": "code",
   "execution_count": 51,
   "id": "4523dda9-4ab1-4e44-ba1d-168860406da2",
   "metadata": {},
   "outputs": [],
   "source": [
    "df['units_sold']  = df['units_sold'].str.replace(',','')\n",
    "df['units_sold']  = pd.to_numeric(df['units_sold'])"
   ]
  },
  {
   "cell_type": "code",
   "execution_count": 57,
   "id": "ce025998-f739-4674-b801-82bf74d82a31",
   "metadata": {},
   "outputs": [],
   "source": [
    "df['profit'] = df['profit'].str.replace('$','')\n",
    "df['profit'] = df['profit'].str.replace(',','')\n",
    "df['profit'] = pd.to_numeric(df['profit'])"
   ]
  },
  {
   "cell_type": "code",
   "execution_count": 60,
   "id": "5403bb25-9f00-49c1-8497-f007187d9f9a",
   "metadata": {},
   "outputs": [],
   "source": [
    "df['margin'] = df['margin'].str.replace('%','')\n",
    "df['margin'] = pd.to_numeric(df['margin'])"
   ]
  },
  {
   "cell_type": "code",
   "execution_count": 66,
   "id": "cf46e768-aaf8-4205-bed3-3ab32402cb0d",
   "metadata": {},
   "outputs": [
    {
     "data": {
      "text/plain": [
       "Retailer                object\n",
       "invoice_date    datetime64[ns]\n",
       "Region                  object\n",
       "State                   object\n",
       "City                    object\n",
       "Product                 object\n",
       "unit_price             float64\n",
       "units_sold               int64\n",
       "total_sales              int64\n",
       "profit                   int64\n",
       "margin                   int64\n",
       "sales_method            object\n",
       "dtype: object"
      ]
     },
     "execution_count": 66,
     "metadata": {},
     "output_type": "execute_result"
    }
   ],
   "source": [
    "df.dtypes"
   ]
  },
  {
   "cell_type": "code",
   "execution_count": 68,
   "id": "bcda53ca-c06c-4ea5-afb6-5b4d1c63d8f5",
   "metadata": {},
   "outputs": [],
   "source": [
    "df['invoice_date'] = pd.to_datetime(df['invoice_date'])"
   ]
  },
  {
   "cell_type": "code",
   "execution_count": 70,
   "id": "af42eeef-f929-41a9-bb8e-ff7b9ca1e7fb",
   "metadata": {},
   "outputs": [],
   "source": [
    "df.to_csv('adidas.csv', index=False)"
   ]
  },
  {
   "cell_type": "code",
   "execution_count": null,
   "id": "f1003488-7882-48aa-9285-21256085fe22",
   "metadata": {},
   "outputs": [],
   "source": []
  }
 ],
 "metadata": {
  "kernelspec": {
   "display_name": "Python 3 (ipykernel)",
   "language": "python",
   "name": "python3"
  },
  "language_info": {
   "codemirror_mode": {
    "name": "ipython",
    "version": 3
   },
   "file_extension": ".py",
   "mimetype": "text/x-python",
   "name": "python",
   "nbconvert_exporter": "python",
   "pygments_lexer": "ipython3",
   "version": "3.11.7"
  }
 },
 "nbformat": 4,
 "nbformat_minor": 5
}
